{
 "cells": [
  {
   "cell_type": "markdown",
   "metadata": {},
   "source": [
    "1. 接受顾客要在三明治中添加的一系列食材，这个函数只有一个形参，并打印一条消息，对顾客点的三明治进行概述"
   ]
  },
  {
   "cell_type": "code",
   "execution_count": 1,
   "metadata": {},
   "outputs": [],
   "source": [
    "def order(*food):\n",
    "    print('顾客需要的三明治：')\n",
    "    for i in food:\n",
    "        print(i)\n",
    "        "
   ]
  },
  {
   "cell_type": "code",
   "execution_count": 2,
   "metadata": {},
   "outputs": [
    {
     "name": "stdout",
     "output_type": "stream",
     "text": [
      "顾客需要的三明治：\n",
      "青菜\n",
      "鸡蛋\n"
     ]
    }
   ],
   "source": [
    "order('青菜','鸡蛋')"
   ]
  },
  {
   "cell_type": "code",
   "execution_count": 3,
   "metadata": {},
   "outputs": [
    {
     "name": "stdout",
     "output_type": "stream",
     "text": [
      "顾客需要的三明治：\n",
      "西红柿\n",
      "青菜\n",
      "鸡蛋\n",
      "沙拉酱\n"
     ]
    }
   ],
   "source": [
    "order('西红柿','青菜','鸡蛋','沙拉酱')"
   ]
  },
  {
   "cell_type": "code",
   "execution_count": 4,
   "metadata": {},
   "outputs": [
    {
     "name": "stdout",
     "output_type": "stream",
     "text": [
      "顾客需要的三明治：\n",
      "西红柿\n",
      "青菜\n",
      "火腿\n",
      "沙拉酱\n"
     ]
    }
   ],
   "source": [
    "order('西红柿','青菜','火腿','沙拉酱')"
   ]
  },
  {
   "cell_type": "markdown",
   "metadata": {},
   "source": [
    "2. 复制程序user_profile.py，在其中调用build_profile（）来创建有关你的简介，调用这个函数时，指明你的名和姓，以及三个描述你的键-值对"
   ]
  },
  {
   "cell_type": "code",
   "execution_count": 9,
   "metadata": {},
   "outputs": [],
   "source": [
    "def build_profile(first, last, **user_info):\n",
    "    \"\"\"创建一个字典，其中包含我们知道的有关用户的一切\"\"\"\n",
    "    print('以下是用户的自我介绍：')\n",
    "    profile = {}\n",
    "    profile['first_name'] = first\n",
    "    profile['last_name'] = last\n",
    "    for key,value in user_info.items():\n",
    "        profile[key] = value\n",
    "    for key, value in profile.items():\n",
    "        print(key+':'+str(value))\n",
    "    \n",
    "    return profile\n"
   ]
  },
  {
   "cell_type": "code",
   "execution_count": 10,
   "metadata": {},
   "outputs": [
    {
     "name": "stdout",
     "output_type": "stream",
     "text": [
      "以下是用户的自我介绍：\n",
      "first_name:gonglin\n",
      "last_name:chen\n",
      "length:152\n",
      "weight:48kg\n"
     ]
    },
    {
     "data": {
      "text/plain": [
       "{'first_name': 'gonglin', 'last_name': 'chen', 'length': 152, 'weight': '48kg'}"
      ]
     },
     "execution_count": 10,
     "metadata": {},
     "output_type": "execute_result"
    }
   ],
   "source": [
    "build_profile('gonglin', 'chen', length = 152, weight = '48kg')"
   ]
  },
  {
   "cell_type": "markdown",
   "metadata": {},
   "source": [
    "3. 编写一个函数，将一辆汽车的信息存储在一个字典中，这个函数总是接受制造商和型号，还接受任意数量的关键字实参，调用这个函数，提供必不可少的信息，以及两个名称——值对，如颜色和选装配件"
   ]
  },
  {
   "cell_type": "code",
   "execution_count": 11,
   "metadata": {},
   "outputs": [],
   "source": [
    "def make_car(zhizaoshang, xinhao, **kwargs):\n",
    "    print('以下是这辆车的信息：')\n",
    "    car_info = {}\n",
    "    car_info['zhizaoshang'] = zhizaoshang\n",
    "    car_info['xinhao'] = xinhao\n",
    "    for key, value in kwargs.items():\n",
    "        car_info[key] = value\n",
    "    for key, value in car_info.items():\n",
    "        print(key+':'+value)\n",
    "    return car_info"
   ]
  },
  {
   "cell_type": "code",
   "execution_count": 12,
   "metadata": {},
   "outputs": [
    {
     "name": "stdout",
     "output_type": "stream",
     "text": [
      "以下是这辆车的信息：\n",
      "zhizaoshang:奔驰\n",
      "xinhao:AAA\n",
      "color:red\n",
      "peijian:xxx\n",
      "price:$1000000\n"
     ]
    },
    {
     "data": {
      "text/plain": [
       "{'zhizaoshang': '奔驰',\n",
       " 'xinhao': 'AAA',\n",
       " 'color': 'red',\n",
       " 'peijian': 'xxx',\n",
       " 'price': '$1000000'}"
      ]
     },
     "execution_count": 12,
     "metadata": {},
     "output_type": "execute_result"
    }
   ],
   "source": [
    "make_car('奔驰','AAA',color = 'red', peijian = 'xxx', price = '$1000000')"
   ]
  }
 ],
 "metadata": {
  "kernelspec": {
   "display_name": "Python 3.8.0 ('py38')",
   "language": "python",
   "name": "python3"
  },
  "language_info": {
   "codemirror_mode": {
    "name": "ipython",
    "version": 3
   },
   "file_extension": ".py",
   "mimetype": "text/x-python",
   "name": "python",
   "nbconvert_exporter": "python",
   "pygments_lexer": "ipython3",
   "version": "3.8.0"
  },
  "orig_nbformat": 4,
  "vscode": {
   "interpreter": {
    "hash": "3fba328baaf4fada34ff40b256273cc64a822651d6a71f6e73ed4147929c285a"
   }
  }
 },
 "nbformat": 4,
 "nbformat_minor": 2
}
