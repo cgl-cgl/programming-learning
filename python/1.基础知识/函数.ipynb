{
 "cells": [
  {
   "cell_type": "markdown",
   "metadata": {},
   "source": [
    "# 函数"
   ]
  },
  {
   "cell_type": "markdown",
   "metadata": {},
   "source": [
    "## 参数"
   ]
  },
  {
   "cell_type": "markdown",
   "metadata": {},
   "source": [
    "1. 函数调用时位置参数必需在关键字参数之前\n",
    "2. 函数定义时，默认参数必需放在最后\n",
    "3. 函数定义中，如果出现斜杠'/'，表示斜杠左侧的参数只能使用位置参数的方式调用，右侧可使用位置或关键字参数的方式调用\n",
    "4. 函数定义中，如果出现星号'*'，表示星号左侧的参数可以位置或关键字参数的方式调用，右侧只能使用关键字参数调用"
   ]
  },
  {
   "cell_type": "code",
   "execution_count": 2,
   "metadata": {},
   "outputs": [
    {
     "name": "stdout",
     "output_type": "stream",
     "text": [
      "myyoudk\n"
     ]
    }
   ],
   "source": [
    "def fun1(p1,/,p2,p3):\n",
    "    return print(p1 + p2 + p3)\n",
    "fun1('my','you',p3 = 'dk')"
   ]
  },
  {
   "cell_type": "code",
   "execution_count": 13,
   "metadata": {},
   "outputs": [
    {
     "name": "stdout",
     "output_type": "stream",
     "text": [
      "i love you\n"
     ]
    }
   ],
   "source": [
    "def fun2(p1,*,p2,p3):\n",
    "    return print(p1,p2,p3)\n",
    "fun2('i',p2='love', p3='you')"
   ]
  },
  {
   "cell_type": "code",
   "execution_count": 12,
   "metadata": {},
   "outputs": [
    {
     "name": "stdout",
     "output_type": "stream",
     "text": [
      "1 (2, 3, 4) 5 6\n"
     ]
    }
   ],
   "source": [
    "fun2(1,2,3,4,p2=5,p3=6)"
   ]
  },
  {
   "cell_type": "markdown",
   "metadata": {},
   "source": [
    "**收集参数\\*args**\n",
    "1. 如果一个函数定义中收集参数后面存在其他参数，在调用时，其他参数只能使用关键字参数，与上述所说出现*号的调用方式同\n",
    "2. 收集参数可以将参数打包为元组or字典"
   ]
  },
  {
   "cell_type": "code",
   "execution_count": 14,
   "metadata": {},
   "outputs": [
    {
     "name": "stdout",
     "output_type": "stream",
     "text": [
      "a (1, 2, 3) b\n"
     ]
    }
   ],
   "source": [
    "def fun3(a,*args,b):\n",
    "    print(a,args,b)\n",
    "fun3('a',1,2,3,b='b')"
   ]
  },
  {
   "cell_type": "code",
   "execution_count": 15,
   "metadata": {},
   "outputs": [
    {
     "name": "stdout",
     "output_type": "stream",
     "text": [
      "{'x': 1, 'y': 2, 'z': 3}\n"
     ]
    }
   ],
   "source": [
    "# 收集参数将参数打包为字典**kwargs，这种一定得写成关键字参数的调用\n",
    "def fun4(**kwargs):\n",
    "    print(kwargs)\n",
    "fun4(x=1,y=2,z=3)"
   ]
  },
  {
   "cell_type": "code",
   "execution_count": 16,
   "metadata": {},
   "outputs": [
    {
     "name": "stdout",
     "output_type": "stream",
     "text": [
      "这是一个普通参数 ('收集1', '收集2') {'x': '1', 'y': '2', 'z': '4'}\n"
     ]
    }
   ],
   "source": [
    "def myfunc(a,*b,**c):\n",
    "    print(a,b,c)\n",
    "myfunc('这是一个普通参数','收集1','收集2',x='1',y='2',z='4')"
   ]
  },
  {
   "cell_type": "markdown",
   "metadata": {},
   "source": [
    "**解包参数**"
   ]
  },
  {
   "cell_type": "code",
   "execution_count": 17,
   "metadata": {},
   "outputs": [],
   "source": [
    "def fun5(a,b,c,d):\n",
    "    print(a,b,c,d)"
   ]
  },
  {
   "cell_type": "code",
   "execution_count": 20,
   "metadata": {},
   "outputs": [
    {
     "name": "stdout",
     "output_type": "stream",
     "text": [
      "i love you too\n"
     ]
    }
   ],
   "source": [
    "args = ('i','love','you','too')\n",
    "fun5(*args)"
   ]
  },
  {
   "cell_type": "code",
   "execution_count": 21,
   "metadata": {},
   "outputs": [
    {
     "name": "stdout",
     "output_type": "stream",
     "text": [
      "i love you !\n"
     ]
    }
   ],
   "source": [
    "kwargs = {'a':'i', 'b':'love', 'c':'you', 'd':'!'}\n",
    "fun5(**kwargs)"
   ]
  },
  {
   "cell_type": "markdown",
   "metadata": {},
   "source": [
    "## 作用域"
   ]
  },
  {
   "cell_type": "markdown",
   "metadata": {},
   "source": [
    "- 在函数中定义的变量的作用域仅限于该函数\n",
    "- 在函数中定义与全局变量名字相同的变量，只能在函数调用中覆盖全局变量的值，且两个变量的地址是不相同的\n",
    "- 如果在函数中定义与全局变量名字相同的变量时，声明该变量为全局变量可以强制修改全局变量的值，但这种做法并不提倡"
   ]
  },
  {
   "cell_type": "code",
   "execution_count": 24,
   "metadata": {},
   "outputs": [
    {
     "name": "stdout",
     "output_type": "stream",
     "text": [
      "500\n"
     ]
    },
    {
     "ename": "NameError",
     "evalue": "name 'param1' is not defined",
     "output_type": "error",
     "traceback": [
      "\u001b[1;31m---------------------------------------------------------------------------\u001b[0m",
      "\u001b[1;31mNameError\u001b[0m                                 Traceback (most recent call last)",
      "\u001b[1;32m~\\AppData\\Local\\Temp/ipykernel_12400/2369600265.py\u001b[0m in \u001b[0;36m<module>\u001b[1;34m\u001b[0m\n\u001b[0;32m      3\u001b[0m     \u001b[0mprint\u001b[0m\u001b[1;33m(\u001b[0m\u001b[0mparam1\u001b[0m\u001b[1;33m)\u001b[0m\u001b[1;33m\u001b[0m\u001b[1;33m\u001b[0m\u001b[0m\n\u001b[0;32m      4\u001b[0m \u001b[0mfun1\u001b[0m\u001b[1;33m(\u001b[0m\u001b[1;33m)\u001b[0m\u001b[1;33m\u001b[0m\u001b[1;33m\u001b[0m\u001b[0m\n\u001b[1;32m----> 5\u001b[1;33m \u001b[0mprint\u001b[0m\u001b[1;33m(\u001b[0m\u001b[0mparam1\u001b[0m\u001b[1;33m)\u001b[0m\u001b[1;33m\u001b[0m\u001b[1;33m\u001b[0m\u001b[0m\n\u001b[0m",
      "\u001b[1;31mNameError\u001b[0m: name 'param1' is not defined"
     ]
    }
   ],
   "source": [
    "def fun1():\n",
    "    param1 = 500\n",
    "    print(param1)\n",
    "fun1()\n",
    "print(param1) "
   ]
  },
  {
   "cell_type": "code",
   "execution_count": 26,
   "metadata": {},
   "outputs": [
    {
     "name": "stdout",
     "output_type": "stream",
     "text": [
      "200\n",
      "300\n"
     ]
    }
   ],
   "source": [
    "x1 = 300\n",
    "def fun2():\n",
    "    x1 = 200\n",
    "    print(x1)\n",
    "fun2()\n",
    "print(x1)"
   ]
  },
  {
   "cell_type": "code",
   "execution_count": 27,
   "metadata": {},
   "outputs": [
    {
     "name": "stdout",
     "output_type": "stream",
     "text": [
      "1520570032784\n",
      "1520696921456\n"
     ]
    }
   ],
   "source": [
    "def fun2():\n",
    "    x1 = 200\n",
    "    print(id(x1))\n",
    "fun2()\n",
    "print(id(x1))"
   ]
  },
  {
   "cell_type": "code",
   "execution_count": 28,
   "metadata": {},
   "outputs": [
    {
     "name": "stdout",
     "output_type": "stream",
     "text": [
      "被强制修改成这样\n",
      "被强制修改成这样\n"
     ]
    }
   ],
   "source": [
    "# 强制在函数定义中修改全局变量的值\n",
    "x2 = '原来是长这样'\n",
    "def fun3():\n",
    "    global x2 \n",
    "    x2 = '被强制修改成这样'\n",
    "    print(x2)\n",
    "fun3()\n",
    "print(x2)    "
   ]
  },
  {
   "cell_type": "markdown",
   "metadata": {},
   "source": [
    "### 嵌套函数\n",
    "- 内部函数与外部函数若都定义了一个相同名的变量，内部函数的变量只在内部函数生效，无法修改外部函数所定义的变量值，但如果在内部函数中使用nonlocal对变量进行声明，即可强制改变"
   ]
  },
  {
   "cell_type": "code",
   "execution_count": 30,
   "metadata": {},
   "outputs": [
    {
     "name": "stdout",
     "output_type": "stream",
     "text": [
      "我是funb定义的\n",
      "我是funa定义的\n"
     ]
    }
   ],
   "source": [
    "def funa():\n",
    "    x = '我是funa定义的'\n",
    "    def funb():\n",
    "        x = '我是funb定义的'\n",
    "        print(x)\n",
    "    funb()\n",
    "    print(x)\n",
    "funa()"
   ]
  },
  {
   "cell_type": "code",
   "execution_count": 31,
   "metadata": {},
   "outputs": [
    {
     "name": "stdout",
     "output_type": "stream",
     "text": [
      "我是funb利用nonlocal进行声明强制定义的\n",
      "我是funb利用nonlocal进行声明强制定义的\n"
     ]
    }
   ],
   "source": [
    "def funa():\n",
    "    x = '我是funa定义的'\n",
    "    def funb():\n",
    "        nonlocal x\n",
    "        x = '我是funb利用nonlocal进行声明强制定义的'\n",
    "        print(x)\n",
    "    funb()\n",
    "    print(x)\n",
    "funa()"
   ]
  },
  {
   "cell_type": "markdown",
   "metadata": {},
   "source": [
    "## LEGB规则：python变量的解析机制\n",
    "- 表示从左到右可以一直覆盖\n",
    "- L:Local 局部作用域\n",
    "- E:Enclosed 嵌套函数的外层函数作用域\n",
    "- G:Global 全局作用域\n",
    "- B:Build-In 内置作用域"
   ]
  },
  {
   "cell_type": "markdown",
   "metadata": {},
   "source": [
    "## 闭包\n",
    "1. 利用嵌套函数的外层作用域具有记忆能力这个特性\n",
    "2. 将内层函数作为返回值给返回"
   ]
  }
 ],
 "metadata": {
  "kernelspec": {
   "display_name": "Python 3.9.7 ('base')",
   "language": "python",
   "name": "python3"
  },
  "language_info": {
   "codemirror_mode": {
    "name": "ipython",
    "version": 3
   },
   "file_extension": ".py",
   "mimetype": "text/x-python",
   "name": "python",
   "nbconvert_exporter": "python",
   "pygments_lexer": "ipython3",
   "version": "3.9.7"
  },
  "orig_nbformat": 4,
  "vscode": {
   "interpreter": {
    "hash": "4de53ca4cf415188270f4488d223a1b0ce9d37533cff39c60bff074f96892c95"
   }
  }
 },
 "nbformat": 4,
 "nbformat_minor": 2
}
