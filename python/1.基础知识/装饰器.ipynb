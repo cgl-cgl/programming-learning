{
 "cells": [
  {
   "cell_type": "code",
   "execution_count": 1,
   "metadata": {},
   "outputs": [],
   "source": [
    "import time"
   ]
  },
  {
   "cell_type": "markdown",
   "metadata": {},
   "source": [
    "- 函数闭包\n",
    "  - 参数和返回值都是函数的函数\n",
    "  - 用于增强函数功能"
   ]
  },
  {
   "cell_type": "code",
   "execution_count": 28,
   "metadata": {},
   "outputs": [],
   "source": [
    "# 定义一个增强功能的闭包函数，功能是计算函数运行的时间\n",
    "def time_master(func):\n",
    "    def improved_basefun():\n",
    "        print('开始运行程序。。。')\n",
    "        start = time.time()\n",
    "        func()\n",
    "        stop = time.time()\n",
    "        print('程序结束运行。。。')\n",
    "        print(f\"一共耗费了{(stop-start):.2f}秒\")\n",
    "    return improved_basefun"
   ]
  },
  {
   "cell_type": "code",
   "execution_count": 29,
   "metadata": {},
   "outputs": [],
   "source": [
    "# 定义一个基础的函数，功能是打印0-20的数，且打印一次停顿1s\n",
    "@time_master\n",
    "def basefun():\n",
    "    for i in range(20):\n",
    "        print(i+1)\n",
    "        time.sleep(1)"
   ]
  },
  {
   "cell_type": "code",
   "execution_count": 30,
   "metadata": {},
   "outputs": [],
   "source": [
    "def basefun1():\n",
    "    for i in range(20):\n",
    "        print(i+1)\n",
    "        time.sleep(1)"
   ]
  },
  {
   "cell_type": "code",
   "execution_count": 31,
   "metadata": {},
   "outputs": [
    {
     "name": "stdout",
     "output_type": "stream",
     "text": [
      "开始运行程序。。。\n",
      "1\n",
      "2\n",
      "3\n",
      "4\n",
      "5\n",
      "6\n",
      "7\n",
      "8\n",
      "9\n",
      "10\n",
      "11\n",
      "12\n",
      "13\n",
      "14\n",
      "15\n",
      "16\n",
      "17\n",
      "18\n",
      "19\n",
      "20\n",
      "程序结束运行。。。\n",
      "一共耗费了20.20秒\n",
      "----------等价写法----------\n",
      "开始运行程序。。。\n",
      "1\n",
      "2\n",
      "3\n",
      "4\n",
      "5\n",
      "6\n",
      "7\n",
      "8\n",
      "9\n",
      "10\n",
      "11\n",
      "12\n",
      "13\n",
      "14\n",
      "15\n",
      "16\n",
      "17\n",
      "18\n",
      "19\n",
      "20\n",
      "程序结束运行。。。\n",
      "一共耗费了20.15秒\n"
     ]
    }
   ],
   "source": [
    "basefun()\n",
    "print('-'*10 + '等价写法' + '-'*10)\n",
    "basefun1 = time_master(basefun1)\n",
    "basefun1()"
   ]
  },
  {
   "cell_type": "markdown",
   "metadata": {},
   "source": [
    "**两层装饰器的例子**"
   ]
  },
  {
   "cell_type": "code",
   "execution_count": 17,
   "metadata": {},
   "outputs": [],
   "source": [
    "def fun1(f1):\n",
    "    print('我是叫fun1的函数')\n",
    "    \n",
    "    def improved1():\n",
    "        print('fun1给你增强一次啦')\n",
    "        f1() \n",
    "\n",
    "    return improved1\n",
    "\n"
   ]
  },
  {
   "cell_type": "code",
   "execution_count": 18,
   "metadata": {},
   "outputs": [],
   "source": [
    "def fun2(f2):\n",
    "    print('我是叫fun2的函数')\n",
    "    \n",
    "    def improved2():\n",
    "        print('fun2给你增强一次啦')\n",
    "        f2()\n",
    "\n",
    "    return improved2\n",
    "\n"
   ]
  },
  {
   "cell_type": "code",
   "execution_count": 19,
   "metadata": {},
   "outputs": [
    {
     "name": "stdout",
     "output_type": "stream",
     "text": [
      "我是叫fun2的函数\n",
      "我是叫fun1的函数\n"
     ]
    }
   ],
   "source": [
    "@fun1\n",
    "@fun2\n",
    "def base_fun1():\n",
    "    pass"
   ]
  },
  {
   "cell_type": "code",
   "execution_count": 21,
   "metadata": {},
   "outputs": [
    {
     "name": "stdout",
     "output_type": "stream",
     "text": [
      "fun1给你增强一次啦\n",
      "fun2给你增强一次啦\n"
     ]
    }
   ],
   "source": [
    "base_fun1()"
   ]
  },
  {
   "cell_type": "code",
   "execution_count": 22,
   "metadata": {},
   "outputs": [
    {
     "name": "stdout",
     "output_type": "stream",
     "text": [
      "fun1给你增强一次啦\n",
      "fun2给你增强一次啦\n"
     ]
    }
   ],
   "source": [
    "base_fun1()"
   ]
  },
  {
   "cell_type": "markdown",
   "metadata": {},
   "source": [
    "https://python3-cookbook.readthedocs.io/zh_CN/latest/c07/p12_access_variables_defined_inside_closure.html"
   ]
  }
 ],
 "metadata": {
  "kernelspec": {
   "display_name": "Python 3.9.7 ('base')",
   "language": "python",
   "name": "python3"
  },
  "language_info": {
   "codemirror_mode": {
    "name": "ipython",
    "version": 3
   },
   "file_extension": ".py",
   "mimetype": "text/x-python",
   "name": "python",
   "nbconvert_exporter": "python",
   "pygments_lexer": "ipython3",
   "version": "3.8.0"
  },
  "orig_nbformat": 4,
  "vscode": {
   "interpreter": {
    "hash": "4de53ca4cf415188270f4488d223a1b0ce9d37533cff39c60bff074f96892c95"
   }
  }
 },
 "nbformat": 4,
 "nbformat_minor": 2
}
