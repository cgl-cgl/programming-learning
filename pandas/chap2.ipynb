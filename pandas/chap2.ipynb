{
 "cells": [
  {
   "attachments": {},
   "cell_type": "markdown",
   "metadata": {},
   "source": [
    "# Chap02 pandas基础"
   ]
  },
  {
   "cell_type": "code",
   "execution_count": 1,
   "metadata": {},
   "outputs": [],
   "source": [
    "import pandas as pd"
   ]
  },
  {
   "attachments": {},
   "cell_type": "markdown",
   "metadata": {},
   "source": [
    "## 文件读取\n",
    "1. `pd.read_csv,pd.read_table,pd.read_excel`分别读取csv,txt,excel文件\n",
    "2. 公共参数：\n",
    "    - `header=None`表示第一行不作为列名\n",
    "    - `index_col`表示把某一列或几列作为索引\n",
    "    - `usecols`表示读取列的集合，默认读取所有的列\n",
    "    - `parse_dates`表示需要转化为时间的列\n",
    "    - `nrows`表示读取的数据行数\n",
    "3. `read_table`有一个分割参数`sep`，可以自定义分割符号，进行txt数据的读取"
   ]
  },
  {
   "attachments": {},
   "cell_type": "markdown",
   "metadata": {},
   "source": [
    "## 数据写入\n",
    "1. `df.to_csv`除了可以保存为csv文件，还可以保存为txt文件，并允许自定义分隔符`sep='\\t'`\n",
    "2. `df.to_excel`可以保存为excel文件\n",
    "3. `df.to_markdown`和`df.to_latex`函数可以将表格快速转化为markdown语言和latex语言，前提条件需要安装`tabulate`包"
   ]
  },
  {
   "attachments": {},
   "cell_type": "markdown",
   "metadata": {},
   "source": [
    "## 基本数据结构\n",
    "1. `Series`和`Dataframe`的公共组成：`data(获取的方式为.values),index,dtype,name`，`.shape`可以获得大小\n",
    "2. `Dataframe`在`Series`的基础上增加了列索引`columns`，其中`data`可以是列表，也可以是带列索引的字典\n",
    "3. `df['col_0']`结果为series，取出相应的列\n",
    "4. `df[['col_0','col_1']]`结果为Dataframe，取出多个列组成的表\n",
    "5. `df.T`数据集的转置"
   ]
  },
  {
   "cell_type": "code",
   "execution_count": null,
   "metadata": {},
   "outputs": [],
   "source": []
  }
 ],
 "metadata": {
  "kernelspec": {
   "display_name": "py38",
   "language": "python",
   "name": "python3"
  },
  "language_info": {
   "codemirror_mode": {
    "name": "ipython",
    "version": 3
   },
   "file_extension": ".py",
   "mimetype": "text/x-python",
   "name": "python",
   "nbconvert_exporter": "python",
   "pygments_lexer": "ipython3",
   "version": "3.9.7"
  },
  "orig_nbformat": 4
 },
 "nbformat": 4,
 "nbformat_minor": 2
}
