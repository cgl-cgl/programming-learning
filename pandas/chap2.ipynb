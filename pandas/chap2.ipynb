{
 "cells": [
  {
   "attachments": {},
   "cell_type": "markdown",
   "metadata": {},
   "source": [
    "# Chap02 pandas基础"
   ]
  },
  {
   "cell_type": "code",
   "execution_count": 2,
   "metadata": {},
   "outputs": [],
   "source": [
    "import pandas as pd"
   ]
  },
  {
   "attachments": {},
   "cell_type": "markdown",
   "metadata": {},
   "source": [
    "## 文件读取\n",
    "1. `pd.read_csv,pd.read_table,pd.read_excel`分别读取csv,txt,excel文件\n",
    "2. 公共参数：\n",
    "    - `header=None`表示第一行不作为列名\n",
    "    - `index_col`表示把某一列或几列作为索引\n",
    "    - `usecols`表示读取列的集合，默认读取所有的列\n",
    "    - `parse_dates`表示需要转化为时间的列\n",
    "    - `nrows`表示读取的数据行数\n",
    "3. `read_table`有一个分割参数`sep`，可以自定义分割符号，进行txt数据的读取"
   ]
  },
  {
   "cell_type": "code",
   "execution_count": null,
   "metadata": {},
   "outputs": [],
   "source": []
  }
 ],
 "metadata": {
  "kernelspec": {
   "display_name": "py38",
   "language": "python",
   "name": "python3"
  },
  "language_info": {
   "codemirror_mode": {
    "name": "ipython",
    "version": 3
   },
   "file_extension": ".py",
   "mimetype": "text/x-python",
   "name": "python",
   "nbconvert_exporter": "python",
   "pygments_lexer": "ipython3",
   "version": "3.8.0"
  },
  "orig_nbformat": 4
 },
 "nbformat": 4,
 "nbformat_minor": 2
}
