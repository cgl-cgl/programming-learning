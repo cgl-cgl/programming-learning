{
 "cells": [
  {
   "attachments": {},
   "cell_type": "markdown",
   "metadata": {},
   "source": [
    "# Chap09 分类数据"
   ]
  },
  {
   "cell_type": "code",
   "execution_count": 1,
   "metadata": {},
   "outputs": [],
   "source": [
    "import pandas as pd\n",
    "import numpy as np"
   ]
  },
  {
   "attachments": {},
   "cell_type": "markdown",
   "metadata": {},
   "source": [
    "## cat对象\n",
    "### cat对象的属性\n",
    "1. pandas中提供category类型，在一个分类类型的Series中定义了**cat**对象\n",
    "2. `s.cat.categories`类别本身，以Index类型存储\n",
    "3. `s.cat.ordered`类别是否有序，返回布尔值\n",
    "4. 每一个序列的类别会被赋予唯一的整数编号，编号取决于`s.cat.categories`中的顺序，该属性可以通过`s.cat.codes`访问\n",
    "### 类别的增加、删除和修改\n",
    "1. 类别的增加`s.cat.add_categories('增加的类别')`\n",
    "2. 类别的删除`s.cat.remove_categories('删除的类别')`，删除后原来序列中的该类会被设置为缺失\n",
    "3. `set_categories`直接设置序列的新类别，原来的类别中如果存在元素不属于新类别，那么会被设置为缺失\n",
    "4. `remove_unused_categories()`删除未出现在序列中的类别\n",
    "5. `rename_categories({'原序列某类名':'修改后类名'})`修改后对原序列的对应值也进行相应修改"
   ]
  },
  {
   "cell_type": "code",
   "execution_count": 3,
   "metadata": {},
   "outputs": [
    {
     "data": {
      "text/plain": [
       "0     Freshman\n",
       "1     Freshman\n",
       "2       Senior\n",
       "3    Sophomore\n",
       "4    Sophomore\n",
       "Name: Grade, dtype: category\n",
       "Categories (4, object): ['Freshman', 'Junior', 'Senior', 'Sophomore']"
      ]
     },
     "execution_count": 3,
     "metadata": {},
     "output_type": "execute_result"
    }
   ],
   "source": [
    "df = pd.read_csv('./data/learn_pandas.csv', usecols = ['Grade', 'Name', 'Gender', 'Height', 'Weight'])\n",
    "s = df.Grade.astype('category')\n",
    "s.head()"
   ]
  },
  {
   "cell_type": "code",
   "execution_count": 5,
   "metadata": {},
   "outputs": [
    {
     "data": {
      "text/plain": [
       "0    0\n",
       "1    0\n",
       "2    2\n",
       "3    3\n",
       "4    3\n",
       "dtype: int8"
      ]
     },
     "execution_count": 5,
     "metadata": {},
     "output_type": "execute_result"
    }
   ],
   "source": [
    "s.cat.codes.head()"
   ]
  },
  {
   "attachments": {},
   "cell_type": "markdown",
   "metadata": {},
   "source": [
    "## 有序分类\n",
    "### 序的建立\n",
    "1. 无序类别转化为有序类别`reorder_categories(排序后的类别列表,ordered=True)`传入的排序后的类别列表必须时由当前序列的所有**无序类别**构成的列表，不能多也不能少，且必须指定参数`ordered=True`\n",
    "   - 不指定参数`ordered=True`的前提是先用`s.cat.as_ordered()`转化为有序类别，再利用`reorder_categories`进行具体的相对大小调整\n",
    "2. 有序类别转化为无序类别`as_unordered()`\n",
    "### 排序和比较\n",
    "1. 把列的类型修改为category后，再赋予相应的大小关系，就能正常地使用`sort_index`和`sort_value`"
   ]
  },
  {
   "attachments": {},
   "cell_type": "markdown",
   "metadata": {},
   "source": [
    "## 区间类别\n",
    "### 利用cut和qcut进行区间构造\n",
    "1. 区间是一种特殊的category\n",
    "2. `cut(序列s,bins,right,labels,retbins)`\n",
    "   - 区间端点地调整为`0.001*(max-min)`\n",
    "   - `bins`把整个传入数组地按照最大和最小值等间距地分为n段，或者指定区间分割点地列表，其中`np.infty`表示无穷大，`-np.infty`表示无穷小\n",
    "   - `right`区间默认左开右闭，需要指定左闭右开时，指定`right=False`\n",
    "   - `labels`区间的名字（即不显示(n1,n2])\n",
    "   - `retbins`是否返回分割点，默认不返回\n",
    "3. `qcut`\n",
    "   - 用法上和`cut`几乎没差别，只是把bins参数变成q参数，表示按照n等分位数把数据分箱，还可以传入**浮点列表**指代相应地分位数分割点"
   ]
  },
  {
   "cell_type": "code",
   "execution_count": 9,
   "metadata": {},
   "outputs": [
    {
     "data": {
      "text/plain": [
       "0    small\n",
       "1      big\n",
       "dtype: category\n",
       "Categories (2, object): ['small' < 'big']"
      ]
     },
     "execution_count": 9,
     "metadata": {},
     "output_type": "execute_result"
    }
   ],
   "source": [
    "s = pd.Series([1,2])\n",
    "res = pd.cut(s, bins=2, labels=['small','big'], retbins=True)\n",
    "res[0]"
   ]
  },
  {
   "cell_type": "code",
   "execution_count": 10,
   "metadata": {},
   "outputs": [
    {
     "data": {
      "text/plain": [
       "array([0.999, 1.5  , 2.   ])"
      ]
     },
     "execution_count": 10,
     "metadata": {},
     "output_type": "execute_result"
    }
   ],
   "source": [
    "res[1]"
   ]
  },
  {
   "cell_type": "code",
   "execution_count": 11,
   "metadata": {},
   "outputs": [
    {
     "data": {
      "text/plain": [
       "0      (44.0, 69.4]\n",
       "1      (69.4, 89.0]\n",
       "2      (69.4, 89.0]\n",
       "3    (33.999, 44.0]\n",
       "4      (69.4, 89.0]\n",
       "Name: Weight, dtype: category\n",
       "Categories (3, interval[float64, right]): [(33.999, 44.0] < (44.0, 69.4] < (69.4, 89.0]]"
      ]
     },
     "execution_count": 11,
     "metadata": {},
     "output_type": "execute_result"
    }
   ],
   "source": [
    "s = df.Weight\n",
    "pd.qcut(s, q=[0,0.2,0.8,1]).head()"
   ]
  }
 ],
 "metadata": {
  "kernelspec": {
   "display_name": "base",
   "language": "python",
   "name": "python3"
  },
  "language_info": {
   "codemirror_mode": {
    "name": "ipython",
    "version": 3
   },
   "file_extension": ".py",
   "mimetype": "text/x-python",
   "name": "python",
   "nbconvert_exporter": "python",
   "pygments_lexer": "ipython3",
   "version": "3.9.7"
  },
  "orig_nbformat": 4
 },
 "nbformat": 4,
 "nbformat_minor": 2
}
